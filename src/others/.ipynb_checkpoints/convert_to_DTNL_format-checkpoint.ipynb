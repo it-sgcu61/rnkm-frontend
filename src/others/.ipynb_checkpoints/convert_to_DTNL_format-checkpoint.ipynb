{
 "cells": [
  {
   "cell_type": "code",
   "execution_count": 36,
   "metadata": {},
   "outputs": [],
   "source": [
    "import pandas as pd"
   ]
  },
  {
   "cell_type": "code",
   "execution_count": 37,
   "metadata": {},
   "outputs": [],
   "source": [
    "tmp = pd.read_excel('new_raw_output.xlsx', 'main')"
   ]
  },
  {
   "cell_type": "code",
   "execution_count": 53,
   "metadata": {},
   "outputs": [
    {
     "data": {
      "text/plain": [
       "Index(['studentCode', 'nationalID', 'fullnameTH', 'tel', 'nickname',\n",
       "       'facebook', 'lineID', 'imageURL', 'religion', 'nameTH', 'surnameTH',\n",
       "       'realHouseTH', 'realHouseEN', 'realHouseURL', 'regularDrug',\n",
       "       'congenitalDisease', 'foodAllergies', 'drugAllergy', 'disorders',\n",
       "       'emergency_tel', 'emergency_tel_relation', 'dynamic/faculty',\n",
       "       'dynamic/nameprefix'],\n",
       "      dtype='object')"
      ]
     },
     "execution_count": 53,
     "metadata": {},
     "output_type": "execute_result"
    }
   ],
   "source": [
    "df.columns"
   ]
  },
  {
   "cell_type": "code",
   "execution_count": 68,
   "metadata": {},
   "outputs": [],
   "source": [
    "df = tmp.copy()\n",
    "for i in ['house1', 'house2', 'house3', 'RCU_required', 'RCU_reason', 'sex', 'city', 'titleEN', 'nameEN', 'surnameEN', 'groupID']:\n",
    "    if i in df.columns:\n",
    "        del df[i]\n",
    "\n",
    "df['dynamic/faculty'] = df['facultyTH'] + ' - ' + df['facultyEN'].map(lambda of: of.replace('Of', 'of'))\n",
    "df['dynamic/nameprefix'] = df['titleTH'].map({\"นาย\": \"นาย - Mr.\",  \"นางสาว\": \"นางสาว - Miss.\"}.get)\n",
    "df['head/realHouse'] = df['realHouseTH'].map({\n",
    "    \"บ้านคิดส์\": \"บ้านคิดส์ - Kids\",\n",
    "    \"บ้านคุณหนู\": \"บ้านคุณหนู - Khunnoo\",\n",
    "    \"บ้านคุ้ม\": \"บ้านคุ้ม - KOOM\",\n",
    "    \"บ้านโคะ\": \"บ้านโคะ - KOH\",\n",
    "    \"บ้านจัดสัน\": \"บ้านจัดสัน - Jadson\",\n",
    "    \"บ้านโจ๋\": \"บ้านโจ๋ - Jo+\",\n",
    "    \"บ้านโจ๊ะเด๊ะ\": \"บ้านโจ๊ะเด๊ะ - Jodeh Huesa\",\n",
    "    \"บ้านโซ้ยตี๋หลีหมวย\": \"บ้านโซ้ยตี๋หลีหมวย - SoeiteeLheemouy\",\n",
    "    \"บ้านดอก\": \"บ้านดอก - Dork\",\n",
    "    \"บ้านดัง\": \"บ้านดัง - Dung\",\n",
    "    \"บ้านดุ๊ยดุ่ย\": \"บ้านดุ๊ยดุ่ย - Duidui\",\n",
    "    \"บ้านเต็ม\": \"บ้านเต็ม - TEM\",\n",
    "    \"บ้านบึ้ม\": \"บ้านบึ้ม - Buem\",\n",
    "    \"บ้านบูชายัญ\": \"บ้านบูชายัญ - Buchayun\",\n",
    "    \"บ้านเปรี้ยว\": \"บ้านเปรี้ยว - Preaw\",\n",
    "    \"บ้านผี\": \"บ้านผี - Phee\",\n",
    "    \"บ้านพ่อ\": \"บ้านพ่อ - Por\",\n",
    "    \"บ้านพักตากอากาศ\": \"บ้านพักตากอากาศ - Pak Tak Agard\",\n",
    "    \"บ้านเฟี้ยว\": \"บ้านเฟี้ยว - Fyo\",\n",
    "    \"บ้านยิ้ม\": \"บ้านยิ้ม - Yim\",\n",
    "    \"บ้านแรง\": \"บ้านแรง - Rang\",\n",
    "    \"บ้านว้อนท์\": \"บ้านว้อนท์ - Wanted\",\n",
    "    \"บ้านเวิร์ค\": \"บ้านเวิร์ค - Work\",\n",
    "    \"บ้านสด\": \"บ้านสด - Sod\",\n",
    "    \"บ้านเสี่ยว\": \"บ้านเสี่ยว - Seiyw\",\n",
    "    \"บ้านหมีน้อย\": \"บ้านหมีน้อย - Mheenoi\",\n",
    "    \"บ้านหรอย\": \"บ้านหรอย - Rhoy\",\n",
    "    \"บ้านหลายใจ\": \"บ้านหลายใจ - LaiJai\",\n",
    "    \"บ้านหวัง\": \"บ้านหวัง - Wang\",\n",
    "    \"บ้านไหน\": \"บ้านไหน - Nhai\",\n",
    "    \"บ้านอะอึ๋ม\": \"บ้านอะอึ๋ม - A-AUM\",\n",
    "    \"บ้านอากาเป้\": \"บ้านอากาเป้ - AGAPE\",\n",
    "    \"บ้านอินดี้\": \"บ้านอินดี้ - Indy\",\n",
    "    \"บ้านอินเดียน่า\": \"บ้านอินเดียน่า - INDIANA\",\n",
    "    \"บ้านเอช้วน\": \"บ้านเอช้วน - Achuan\",\n",
    "    \"บ้านแอ๊บ\": \"บ้านแอ๊บ - ABnormal\"\n",
    "}.get)\n",
    "for i in ['facultyTH', 'facultyEN', 'facultyCode', 'titleTH', 'fullnameEN', 'nameTH', 'surnameTH', 'realHouseTH', 'realHouseEN']:\n",
    "    if i in df.columns:\n",
    "        del df[i]\n",
    "\n",
    "df.rename(inplace=True, columns={\n",
    "    \"studentCode\": \"dynamic/studentCode\",\n",
    "    \"nationalID\": \"dynamic/nationalID\",\n",
    "    \"fullnameTH\": \"dynamic/fullname\",\n",
    "    \"tel\": \"dynamic/tel\",\n",
    "    \"nickname\": \"dynamic/nickname\",\n",
    "    \"facebook\": \"dynamic/facebook\",\n",
    "    \"lineID\": \"dynamic/lineID\",\n",
    "    \"imageURL\": \"hidden/imageURL\",\n",
    "    \"religion\": \"dynamic/religion\",\n",
    "    \"realHouseURL\": \"head/realHouseURL\",\n",
    "    \"regularDrug\": \"dynamic/regularDrug\",\n",
    "    \"congenitalDisease\": \"dynamic/congenitalDisease\",\n",
    "    \"foodAllergies\": \"dynamic/foodAllergies\",\n",
    "    \"drugAllergy\": \"dynamic/drugAllergy\",\n",
    "    \"disorders\": \"dynamic/disorders\",\n",
    "    \"emergency_tel\": \"dynamic/emergency_tel\",\n",
    "    \"emergency_tel_relation\": \"dynamic/emergency_tel_relation\",\n",
    "    \"dynamic/faculty\": \"dynamic/faculty\",\n",
    "    \"dynamic/nameprefix\": \"dynamic/nameprefix\",\n",
    "    \"head/realHouse\": \"head/realHouse\",\n",
    "})"
   ]
  },
  {
   "cell_type": "code",
   "execution_count": 76,
   "metadata": {},
   "outputs": [],
   "source": [
    "# w = pd.ExcelWriter('./convertToDTNL.xlsx')\n",
    "f = open('./convertToDTNL.json', 'w')\n",
    "# df.to_excel(w)\n",
    "f.write(df.to_json(orient='records', force_ascii=False).replace('\\/', '/').replace('\\\\\\\\u0026', '&'))\n",
    "# w.save()\n",
    "f.close()\n"
   ]
  },
  {
   "cell_type": "code",
   "execution_count": 77,
   "metadata": {},
   "outputs": [
    {
     "data": {
      "text/plain": [
       "Index(['dynamic/studentCode', 'dynamic/nationalID', 'dynamic/fullname',\n",
       "       'dynamic/tel', 'dynamic/nickname', 'dynamic/facebook', 'dynamic/lineID',\n",
       "       'hidden/imageURL', 'dynamic/religion', 'dynamic/realHouseURL',\n",
       "       'dynamic/regularDrug', 'dynamic/congenitalDisease',\n",
       "       'dynamic/foodAllergies', 'dynamic/drugAllergy', 'dynamic/disorders',\n",
       "       'dynamic/emergency_tel', 'dynamic/emergency_tel_relation',\n",
       "       'dynamic/faculty', 'dynamic/nameprefix', 'head/realHouse'],\n",
       "      dtype='object')"
      ]
     },
     "execution_count": 77,
     "metadata": {},
     "output_type": "execute_result"
    }
   ],
   "source": [
    "df.columns"
   ]
  },
  {
   "cell_type": "markdown",
   "metadata": {},
   "source": [
    "head/house1\n",
    "head/house2\n",
    "head/house3\n",
    "dynamic/nameprefix\n",
    "dynamic/fullname\n",
    "dynamic/nickname\n",
    "dynamic/faculty\n",
    "dynamic/nationalID\n",
    "dynamic/religion\n",
    "dynamic/tel\n",
    "dynamic/lineID\n",
    "dynamic/facebook\n",
    "dynamic/emergency_tel\n",
    "dynamic/emergency_tel_relation\n",
    "dynamic/RCU_required\n",
    "dynamic/RCU_reason\n",
    "dynamic/congenital_disease\n",
    "dynamic/regularDrug\n",
    "dynamic/drugAllergy\n",
    "dynamic/disorders\n",
    "dynamic/foodAllergies\n",
    "hidden/groupID\n",
    "hidden/imageURL"
   ]
  },
  {
   "cell_type": "markdown",
   "metadata": {},
   "source": [
    "---\n",
    "head/house1\n",
    "head/house2\n",
    "head/house3\n",
    "hidden/groupID\n",
    "dynamic/RCU_required\n",
    "dynamic/RCU_reason\n",
    "+++\n",
    "head/realHouse\n",
    "head/realHouseURL"
   ]
  },
  {
   "cell_type": "code",
   "execution_count": null,
   "metadata": {},
   "outputs": [],
   "source": []
  }
 ],
 "metadata": {
  "kernelspec": {
   "display_name": "Python 3",
   "language": "python",
   "name": "python3"
  },
  "language_info": {
   "codemirror_mode": {
    "name": "ipython",
    "version": 3
   },
   "file_extension": ".py",
   "mimetype": "text/x-python",
   "name": "python",
   "nbconvert_exporter": "python",
   "pygments_lexer": "ipython3",
   "version": "3.6.5"
  }
 },
 "nbformat": 4,
 "nbformat_minor": 2
}
